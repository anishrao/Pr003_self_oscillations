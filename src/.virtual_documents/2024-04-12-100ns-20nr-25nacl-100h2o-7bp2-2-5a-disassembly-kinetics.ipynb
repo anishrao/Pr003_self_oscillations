


import glob
import os, time
import itertools
import numpy as np
import seaborn as sns
import pandas as pd

import matplotlib.pyplot as plt
import matplotlib.colors as mcolors
import matplotlib.cm as cm
from mpl_toolkits.mplot3d import Axes3D
from mpl_toolkits.axes_grid1.inset_locator import inset_axes
from cycler import cycler
from datetime import datetime, timedelta
from natsort import natsorted

from scipy.stats import norm
from scipy.optimize import curve_fit #we could import more, but this is what we need
from scipy.stats import linregress

from misc_process import normalize_max

%matplotlib inline


'''
Get paths to corresponsing folders
'''

# get the path to the project's main directory (e.g., Project051)
BASE_DIR_PATH = os.path.dirname(os.path.abspath(os.getcwd()))

# ------------------------- data folder -----------------------

# get the path to the folder containing raw data
DATA_DIR_PATH = os.path.join(BASE_DIR_PATH, 'data', '')

# get the path to the folder containing UV-Vis-NIR raw data
DATA_UV_DIR_PATH = os.path.join(BASE_DIR_PATH, 'data', 'UV-Vis-NIR','2024-04-12-100ns-20nr-blablabla_2-5a-notempcont-redip-kinet', '')

# ------------------------- output folder -----------------------

# # get the path to the folder with generated figures
RESULT_DIR_PATH = os.path.join(BASE_DIR_PATH, 'results', 'figs', '')
RESULT_DIR_PATH_CSV = os.path.join(BASE_DIR_PATH, 'results', 'csv', '')
RESULT_DIR_PATH_SI = os.path.join(BASE_DIR_PATH, 'results', 'figs', 'si_figs', 'png', '')

DATA_UV_DIR_PATH


new_df_cool.iloc[668]


'''
Import cooling data from UV-Vis-NIR folder
'''

#================ import data =========================#

# Define the path to the folder containing the CSV files
folder_path = DATA_UV_DIR_PATH

# Get a list of all CSV files in the folder
txt_files = glob.glob(os.path.join(folder_path, '*.txt'))

print(len(txt_files))

#================ plot data heating cycle ===========================#

fig = plt.figure(figsize=(4,2), dpi=300) # generate a figure
ax = plt.subplot(1,1,1) #(nrow, ncolumn, index) - make a subplot, there is only one

# Initialize the maximum value and its corresponding index
max_values_cool = []
max_indexes_cool = []
wv_abs_cool = []
times_cool = []

time_cool = 0

for i, txt_file in enumerate(natsorted(txt_files)):
    # Read the CSV file into a Pandas DataFrame
    df_cool = pd.read_csv(txt_file, skiprows=14, delimiter='\t', header=None)
    new_df_cool = df_cool.iloc[400:1200, ] #385 to 743 nm
    
    # Find the maximum value and its corresponding index
    max_value_cool = new_df_cool.iloc[668,1] # 685 nm
    max_values_cool.append(max_value_cool)
    
    times_cool.append(time_cool)
    time_cool = time_cool + 0.0333 # 2 seconds in minutes
    
    # set the color

    if i == 0:
        color = 'firebrick'
    elif i == len(txt_files)-1:
        color = 'royalblue'
    else:
        color = 'grey'
    
    # Plot the data
    ax.plot(df_cool[0],df_cool[1], color = color, linewidth = 1)                           # plot data

ax.set_xlim([350,800])                    # set wavelength limit
ax.set_ylim([-0.1,0.8])                       # set absorbance limit
ax.set_xlabel(r'Wavelength (nm)')          # set axis label
ax.set_ylabel(r'Extinction ')              # set axis label
ax.axvline(685, color='firebrick')

plt.tight_layout()  


# Plot of max. wavelength with time

fig = plt.figure(figsize=(4,2), dpi=600) # generate a figure
ax = plt.subplot(1,1,1) #(nrow, ncolumn, index) - make a subplot, there is only one

ax.scatter(times_cool, max_values_cool, s = 1, color = 'royalblue')                           # plot data
#ax.set_title('17$^{o}$C-3.3A-35mins-Wavelength')

#ax.set_xlim([3300,4000])                   
#ax.set_ylim([0.3,0.51])                       
ax.set_xlabel(r'Time(s)')          # set axis label
ax.set_ylabel(r'Abs. 685')              # set axis label

plt.tight_layout()  



#========logiscic_growth===============#

# Define the logiscic_growth function
def logiscic_growth(x, a, b, c, d):
    return a / (1. + np.exp(-c * (x - d))) + b

# Fit the data to the exponential decay function
popt, pcov = curve_fit(logiscic_growth, times_cool, max_values_cool)

# Print the fitted parameters
print('a =', popt[0])
print('b =', popt[1])
print('c =', popt[2])
print('d =', popt[3])
x_data = np.linspace(0,1.4)

fig_kin = plt.figure(figsize=(2,1.5), dpi=300) # generate a figure
ax_kin = plt.subplot(1,1,1) #(nrow, ncolumn, index) - make a subplot, there is only one

ax_kin.plot(x_data, logiscic_growth(x_data, popt[0], popt[1], popt[2], popt[3]), color='firebrick', linewidth = 1)
ax_kin.scatter(times_cool, max_values_cool, color='black', s=6)                           # plot data
ax_kin.scatter(times_cool, max_values_cool, color='firebrick', s=3)                           # plot data

#ax_kin.set_xlim([0,30])                    # set wavelength limit

ax_kin.set_xlim([0,1.5])                       # set absorbance limit
#ax_kin.set_xlabel(r'Time (min)')          # set axis label
#ax_kin.set_ylabel(r'Ext. at 685nm')              # set axis label
ax_kin.spines['top'].set_visible(False)
ax_kin.spines['left'].set_visible(False)
ax_kin.spines['right'].set_color('firebrick')
ax_kin.tick_params(axis='y', colors='firebrick')
ax_kin.yaxis.set_label_position("right")
ax_kin.yaxis.tick_right()

#ax_kin.annotate('b = 0.113 min$^{-1}$', (1,0.05))
plt.tight_layout()

#plt.savefig(RESULT_DIR_PATH + 'disassembly_kinetics.png', transparent = True)


# Obtian the abs. max and the corresponding wavelength

abs_685 = []
times = []

for col in odd_cols:
    absorbance = round(lspr_abs[col].max(),2)
    abs_685.append(absorbance)
    
print(abs_685)

for time in (range(121)):
    times.append(time/2)

fig_kin = plt.figure(figsize=(4,2), dpi=600) # generate a figure
ax_kin = plt.subplot(1,1,1) #(nrow, ncolumn, index) - make a subplot, there is only one

ax_kin.scatter(times, abs_685, color='royalblue', s= 1)                           # plot data
#ax_kin.set_xlim([0,30])                    # set wavelength limit

#ax_kin.set_ylim([0,0.7])                       # set absorbance limit
ax_kin.set_xlabel(r'Time (min)')          # set axis label
ax_kin.set_ylabel(r'Extinction at 685nm')              # set axis label
ax_kin.spines['top'].set_visible(False)
ax_kin.spines['right'].set_visible(False)

#========exponential fit===============#

# Define the exponential decay function
def exp_decay(x, a, b, c):
    return a * np.exp(-b * x) + c

# Fit the data to the exponential decay function
popt, pcov = curve_fit(exp_decay, times, abs_685)

# Print the fitted parameters
print('a =', popt[0])
print('b =', popt[1])
print('c =', popt[2])
x_data = np.linspace(0,60)

ax_kin.plot(x_data, exp_decay(x_data, popt[0], popt[1], popt[2]), color='firebrick')
#ax_kin.annotate('b = 0.113 min$^{-1}$', (1,0.05))



odd_cols_tspr


len(times)


df_tspr = df.iloc[:,:80]

# Get the odd columns and even columns
odd_cols_tspr = df_tspr.iloc[:, 1::2]  # start from index 1 and select every other column

# Get number of columns
num_cols_tspr = len(odd_cols_tspr.columns)

# Create color list
colors = ['red'] + ['grey']*(num_cols_tspr-3) + ['blue']

# odd_cols.to_csv(RESULT_DIR_PATH_CSV + 'odd_cols.csv')
#df.loc[430] # For abs at 670 nm

#df.loc[430]/(1.456E-4) # For ext. cross section at 670 nm

#df.loc[700] # For abs at 400 nm
odd_cols_tspr

lspr_abs_tspr = odd_cols_tspr[:451]
tspr_abs_tspr = odd_cols_tspr[451:]

# Obtian the abs. max and the corresponding wavelength

abs_685 = []
times = []

for col in odd_cols_tspr:
    absorbance = round(lspr_abs_tspr[col].max(),2)
    abs_685.append(absorbance)
    
print(abs_685)

for time in (range(40)):
    times.append(time)

fig_kin = plt.figure(figsize=(4,2), dpi=600) # generate a figure
ax_kin = plt.subplot(1,1,1) #(nrow, ncolumn, index) - make a subplot, there is only one

ax_kin.scatter(times, abs_685, color='royalblue', s= 1)                           # plot data
#ax_kin.set_xlim([0,30])                    # set wavelength limit

#ax_kin.set_ylim([0,0.7])                       # set absorbance limit
ax_kin.set_xlabel(r'Time (min)')          # set axis label
ax_kin.set_ylabel(r'Extinction at 685nm')              # set axis label
ax_kin.spines['top'].set_visible(False)
ax_kin.spines['right'].set_visible(False)

#========exponential fit===============#

# Define the exponential decay function
def exp_decay(x, a, b, c):
    return a * np.exp(-b * x) + c

# Fit the data to the exponential decay function
popt, pcov = curve_fit(exp_decay, times, abs_685)

# Print the fitted parameters
print('a =', popt[0])
print('b =', popt[1])
print('c =', popt[2])
x_data = np.linspace(0,60)

ax_kin.plot(x_data, exp_decay(x_data, popt[0], popt[1], popt[2]), color='firebrick')
#ax_kin.annotate('b = 0.113 min$^{-1}$', (1,0.05))






df_30min = df.iloc[:,14:80]

# Get the odd columns and even columns
odd_cols_30 = df_30min.iloc[:, 1::2]  # start from index 1 and select every other column

# Get number of columns
num_cols_30 = len(odd_cols_30.columns)

# Create color list
colors = ['red'] + ['grey']*(num_cols_30-3) + ['blue']

# odd_cols.to_csv(RESULT_DIR_PATH_CSV + 'odd_cols.csv')
#df.loc[430] # For abs at 670 nm

#df.loc[430]/(1.456E-4) # For ext. cross section at 670 nm

#df.loc[700] # For abs at 400 nm
odd_cols_30

lspr_abs_30 = odd_cols_30[:451]
tspr_abs_30 = odd_cols_30[451:]


#================ plot data showing aggregation ===========================#

fig = plt.figure(figsize=(4,3.5), dpi=300) # generate a figure

ax = plt.subplot(1,1,1) #(nrow, ncolumn, index) - make a subplot, there is only one

for col in odd_cols_30:
    if col == 'Abs.7':
        color = 'firebrick'
        linewidth = 1.5
    elif col == 'Abs.39':
        color = 'royalblue'
        linewidth = 1.5
    else:
        color = 'lightgrey'
        linewidth = 0
    
    ax.plot(df_30min.iloc[:, 0], odd_cols_30[col], color = color, linewidth = linewidth)                           # plot data    
    
ax.set_xlim([400,1100])                    # set wavelength limit
#ax.set_ylim([0,0.7])                       # set absorbance limit
ax.set_xlabel(r'Wavelength (nm)')          # set axis label
ax.set_ylabel(r'Extinction ')              # set axis label
#ax.axvline(685, color = 'royalblue', linewidth = 1, linestyle = '--')
ax.axvline(808, color = 'firebrick', linewidth = 1, linestyle = '--')
ax.spines['top'].set_visible(False)
ax.spines['right'].set_visible(False)

plt.tight_layout()  
#fig.savefig(RESULT_DIR_PATH+'auss-10ulbp-500mmnacl.pdf')


# Obtian the abs. max and the corresponding wavelength

abs_520_30 = []
times_30 = []

for col in odd_cols_30:
    absorbance = round(tspr_abs_30[col].max(),2)
    abs_520_30.append(absorbance)
    
print(abs_520_30)

for time in (range(33)):
    times_30.append(time)

#========exponential fit===============#

# Define the exponential decay function
def exp_decay(x, a, b, c):
    return a * np.exp(-b * x) + c

# Fit the data to the exponential decay function
popt, pcov = curve_fit(exp_decay, times_30, abs_520_30)

# Print the fitted parameters
print('a =', popt[0])
print('b =', popt[1])
print('c =', popt[2])
x_data = np.linspace(0,33)

fig_kin = plt.figure(figsize=(4,2), dpi=600) # generate a figure
ax_kin = plt.subplot(1,1,1) #(nrow, ncolumn, index) - make a subplot, there is only one

ax_kin.plot(x_data, exp_decay(x_data, popt[0], popt[1], popt[2]), color='firebrick', linewidth = 1)
ax_kin.scatter(times_30, abs_520_30, color='black', s=10)                           # plot data
ax_kin.scatter(times_30, abs_520_30, color='royalblue', s=6)                           # plot data

#ax_kin.set_xlim([0,30])                    # set wavelength limit

#ax_kin.set_ylim([0,0.7])                       # set absorbance limit
ax_kin.set_xlabel(r'Time (min)')          # set axis label
ax_kin.set_ylabel(r'Ext. at tspr')              # set axis label
ax_kin.spines['top'].set_visible(False)
ax_kin.spines['right'].set_visible(False)

#ax_kin.annotate('b = 0.113 min$^{-1}$', (1,0.05))



# Obtian the abs. max and the corresponding wavelength

abs_685_30 = []
times_30 = []

for col in odd_cols_30:
    absorbance = round(lspr_abs_30[col].max(),2)
    abs_685_30.append(absorbance)
    
print(abs_685_30)

for time in (range(33)):
    times_30.append(time)

fig_kin = plt.figure(figsize=(4,2), dpi=600) # generate a figure
ax_kin = plt.subplot(1,1,1) #(nrow, ncolumn, index) - make a subplot, there is only one

ax_kin.scatter(times_30, abs_685_30, color='royalblue', s=1)                           # plot data
#ax_kin.set_xlim([0,30])                    # set wavelength limit

#ax_kin.set_ylim([0,0.7])                       # set absorbance limit
ax_kin.set_xlabel(r'Time (min)')          # set axis label
ax_kin.set_ylabel(r'Ext. at 685nm')              # set axis label
ax_kin.spines['top'].set_visible(False)
ax_kin.spines['right'].set_visible(False)

#========exponential fit===============#

# Define the exponential decay function
def exp_decay(x, a, b, c):
    return a * np.exp(-b * x) + c

# Fit the data to the exponential decay function
popt, pcov = curve_fit(exp_decay, times_30, abs_685_30)

# Print the fitted parameters
print('a =', popt[0])
print('b =', popt[1])
print('c =', popt[2])
x_data = np.linspace(0,33)

ax_kin.plot(x_data, exp_decay(x_data, popt[0], popt[1], popt[2]), color='firebrick')
#ax_kin.annotate('b = 0.113 min$^{-1}$', (1,0.05))



df_30min.iloc[292]


odd_cols_808nm = df_30min.iloc[292, 1::2]  # start from index 1 and select every other column
odd_cols_808nm


len(odd_cols_808nm)


len(times_30)


times_30 = []
for time in (range(33)):
    times_30.append(time)

fig_kin = plt.figure(figsize=(4,2), dpi=600) # generate a figure
ax_kin = plt.subplot(1,1,1) #(nrow, ncolumn, index) - make a subplot, there is only one

ax_kin.scatter(times_30, odd_cols_808nm, color='black', s=10)                           # plot data
ax_kin.scatter(times_30, odd_cols_808nm, color='royalblue', s=6)                           # plot data
#ax_kin.set_xlim([0,30])                    # set wavelength limit

#ax_kin.set_ylim([0,0.7])                       # set absorbance limit
ax_kin.set_xlabel(r'Time (min)')          # set axis label
ax_kin.set_ylabel(r'Ext. at 808nm')              # set axis label
ax_kin.spines['top'].set_visible(False)
ax_kin.spines['right'].set_visible(False)

#========exponential fit===============#

# Define the exponential decay function
def exp_decay(x, a, b, c):
    return a * np.exp(-b * x) + c

# Fit the data to the exponential decay function
popt, pcov = curve_fit(exp_decay, times_30, odd_cols_808nm)

# Print the fitted parameters
print('a =', popt[0])
print('b =', popt[1])
print('c =', popt[2])
x_data = np.linspace(0,33)

ax_kin.plot(x_data, exp_decay(x_data, popt[0], popt[1], popt[2]), color='firebrick')
#ax_kin.annotate('b = 0.113 min$^{-1}$', (1,0.05))






#================ plot data showing aggregation ===========================#

fig = plt.figure(figsize=(7,3), dpi=600)
gs = fig.add_gridspec(1, 2) #nrows, #ncolumns
ax1 = fig.add_subplot(gs[0, 0]) # upper left subplot
ax2 = fig.add_subplot(gs[0, 1]) # upper rigth subplot


for col in odd_cols_30:
    if col == 'Abs.7':
        color = 'firebrick'
        linewidth = 1.5
    elif col == 'Abs.39':
        color = 'royalblue'
        linewidth = 1.5
    else:
        color = 'lightgrey'
        linewidth = 0.5
    
    ax1.plot(df_30min.iloc[:, 0], odd_cols_30[col], color = color, linewidth = linewidth)                            
    
ax1.set_xlim([400,1100])                    # set wavelength limit
#ax.set_ylim([0,0.7])                       # set absorbance limit
ax1.set_xlabel(r'Wavelength (nm)')          # set axis label
ax1.set_ylabel(r'Extinction ')              # set axis label
#ax.axvline(685, color = 'royalblue', linewidth = 1, linestyle = '--')
ax1.axvline(808, color = 'firebrick', linewidth = 1, linestyle = '--')
ax1.spines['top'].set_visible(False)
ax1.spines['right'].set_visible(False)

############################################################################################################################################

times_30 = []
for time in (range(33)):
    times_30.append(time)

ax2.scatter(times_30, odd_cols_808nm, color='black', s=10)                           # plot data
ax2.scatter(times_30, odd_cols_808nm, color='royalblue', s=6)                           # plot data
#ax_kin.set_xlim([0,30])                    # set wavelength limit

#ax_kin.set_ylim([0,0.7])                       # set absorbance limit
ax2.set_xlabel(r'Time (min)')          # set axis label
ax2.set_ylabel(r'Ext. at 808nm')              # set axis label
ax2.spines['top'].set_visible(False)
ax2.spines['right'].set_visible(False)

#========exponential fit===============#

# Define the exponential decay function
def exp_decay(x, a, b, c):
    return a * np.exp(-b * x) + c

# Fit the data to the exponential decay function
popt, pcov = curve_fit(exp_decay, times_30, odd_cols_808nm)

# Print the fitted parameters
print('a =', popt[0])
print('b =', popt[1])
print('c =', popt[2])
x_data = np.linspace(0,33)

ax2.plot(x_data, exp_decay(x_data, popt[0], popt[1], popt[2]), color='firebrick')
#ax_kin.annotate('b = 0.113 min$^{-1}$', (1,0.05))


plt.tight_layout()  

#fig.savefig(RESULT_DIR_PATH + '2024-02-01-100ns-20nr-25nacl-100h2o-7bp2-15c-assembly-kinetics.png', transparent=True)














'''
Import data from the folder
'''

#================ import data =========================#

# import file using read_csv function in pandas
txt_file_agg = natsorted(glob.glob(os.path.join(DATA_UV_DIR_PATH_REVERSIBILITY, 'agg', '', '*.txt')))
txt_file_disp = natsorted(glob.glob(os.path.join(DATA_UV_DIR_PATH_REVERSIBILITY, 'disp', '',  '*.txt')))

# Get the odd columns and even columns
#odd_cool = df_cool.iloc[:, 1::2]  # start from index 1 and select every other column
#odd_heat = df_heat.iloc[:, 1::2]  # start from index 1 and select every other column

#txt_file_agg





max_abs_agg = []

fig = plt.figure(figsize=(4,2), dpi=600) # generate a figure

ax = plt.subplot(1,1,1) #(nrow, ncolumn, index) - make a subplot, there is only one

for txt_file in txt_file_agg:
    # Read the CSV file into a Pandas DataFrame
    df_agg = pd.read_csv(txt_file, skiprows=14, delimiter='\t', header=None)
    absorbance_cool = round(df_agg.iloc[1069, 1].max(),2)
    max_abs_agg.append(absorbance_cool)

    # Plot the data
    ax.plot(df_agg[0],df_agg[1], color = 'royalblue', linewidth = 1)                           # plot data

ax.set_xlim([400,1100])                    # set wavelength limit
ax.set_ylim([0,0.7])                       # set absorbance limit
ax.set_xlabel(r'Wavelength (nm)')          # set axis label
ax.set_ylabel(r'Extinction ')              # set axis label
ax.spines['top'].set_visible(False)
ax.spines['right'].set_visible(False)

plt.tight_layout()  

times_cool_agg = [1.5,2.5,3.5,4.5,5.5,6.5,7.5,8.5,9.5,10.5,11.5,12.5,13.5,14.5]
print('abs. at lambda_max.', max_abs_agg)


max_abs_disp = []

fig = plt.figure(figsize=(4,2), dpi=600) # generate a figure
ax = plt.subplot(1,1,1) #(nrow, ncolumn, index) - make a subplot, there is only one

for txt_file in txt_file_disp:
    # Read the CSV file into a Pandas DataFrame
    df_disp = pd.read_csv(txt_file, skiprows=14, delimiter='\t', header=None)
    absorbance_cool = round(df_disp.iloc[1069, 1].max(),2)
    max_abs_disp.append(absorbance_cool)

    # Plot the data
    ax.plot(df_disp[0],df_disp[1], color = 'firebrick', linewidth = 1)                           # plot data

ax.set_xlim([400,1100])                    # set wavelength limit
ax.set_ylim([0,0.7])                       # set absorbance limit
ax.set_xlabel(r'Wavelength (nm)')          # set axis label
ax.set_ylabel(r'Extinction ')              # set axis label
ax.spines['top'].set_visible(False)
ax.spines['right'].set_visible(False)

plt.tight_layout()  


times_cool_disp = [1,2,3,4,5,6,7,8,9,10,11,12,13,14,15]
print('abs. at lambda_max.', max_abs_disp)


fig = plt.figure(figsize=(4,2), dpi=600) # generate a figure

ax = plt.subplot(1,1,1) #(nrow, ncolumn, index) - make a subplot, there is only one

for txt_file in txt_file_disp:
        # Read the CSV file into a Pandas DataFrame
    df_disp = pd.read_csv(txt_file, skiprows=14, delimiter='\t', header=None)
    
    # Plot the data
    ax.plot(df_disp[0],df_disp[1], color = 'firebrick', linewidth = 1)                           # plot data
    
for txt_file in txt_file_agg:
    # Read the CSV file into a Pandas DataFrame
    df_agg = pd.read_csv(txt_file, skiprows=14, delimiter='\t', header=None)

    # Plot the data
    ax.plot(df_agg[0],df_agg[1], color = 'royalblue', linewidth = 1)                           # plot data

ax.set_xlim([300,1100])                    # set wavelength limit
ax.set_ylim([0,0.7])                       # set absorbance limit
ax.set_xlabel(r'Wavelength (nm)')          # set axis label
ax.set_ylabel(r'Extinction ')              # set axis label
ax.spines['top'].set_visible(False)
ax.spines['right'].set_visible(False)

plt.tight_layout()  


fig = plt.figure(figsize=(7,2), dpi=600) # generate a figure
ax_reversible = plt.subplot(1,1,1) #(nrow, ncolumn, index) - make a subplot, there is only one

ax_reversible.scatter(times_cool_agg, max_abs_agg, color='black', marker='.', s=80)  
ax_reversible.scatter(times_cool_agg, max_abs_agg, color='royalblue', marker='.', s=50) 

ax_reversible.scatter(times_cool_disp, max_abs_disp, color='black', marker='.', s=80)  
ax_reversible.scatter(times_cool_disp, max_abs_disp, color='firebrick', marker='.', s=50)                           

ax_reversible.set_xlim([0.5,15.5])                    # set wavelength limit
ax_reversible.set_ylim([0.25,0.55])                       # set absorbance limit
ax_reversible.set_xlabel(r'Cycles')          # set axis label
ax_reversible.set_ylabel(r'Ext. @ 685 nm')              # set axis label
ax_reversible.spines['top'].set_visible(False)
ax_reversible.spines['right'].set_visible(False)
plt.tight_layout()  

#fig.savefig(RESULT_DIR_PATH+'2024-02-22-100n-20nr-25nacl-100h2o-7bp2-reveribility.png', transparent=True)





max_abs_agg = []

fig = plt.figure(figsize=(4,2), dpi=600) # generate a figure

ax = plt.subplot(1,1,1) #(nrow, ncolumn, index) - make a subplot, there is only one

for txt_file in txt_file_agg:
    # Read the CSV file into a Pandas DataFrame
    df_agg = pd.read_csv(txt_file, skiprows=14, delimiter='\t', header=None)
    absorbance_cool = round(df_agg.iloc[1350, 1].max(),2)
    max_abs_agg.append(absorbance_cool)

    # Plot the data
    ax.plot(df_agg[0],df_agg[1], color = 'royalblue', linewidth = 1)                           # plot data

ax.set_xlim([400,1100])                    # set wavelength limit
ax.set_ylim([0,0.7])                       # set absorbance limit
ax.set_xlabel(r'Wavelength (nm)')          # set axis label
ax.set_ylabel(r'Extinction ')              # set axis label
ax.spines['top'].set_visible(False)
ax.spines['right'].set_visible(False)

plt.tight_layout()  

times_cool_agg = [1.5,2.5,3.5,4.5,5.5,6.5,7.5,8.5,9.5,10.5,11.5,12.5,13.5,14.5]
print('abs. at lambda_max.', max_abs_agg)

max_abs_disp = []

fig = plt.figure(figsize=(4,2), dpi=600) # generate a figure
ax = plt.subplot(1,1,1) #(nrow, ncolumn, index) - make a subplot, there is only one

for txt_file in txt_file_disp:
    # Read the CSV file into a Pandas DataFrame
    df_disp = pd.read_csv(txt_file, skiprows=14, delimiter='\t', header=None)
    absorbance_cool = round(df_disp.iloc[1350, 1].max(),2)
    max_abs_disp.append(absorbance_cool)

    # Plot the data
    ax.plot(df_disp[0],df_disp[1], color = 'firebrick', linewidth = 1)                           # plot data

ax.set_xlim([400,1100])                    # set wavelength limit
ax.set_ylim([0,0.7])                       # set absorbance limit
ax.set_xlabel(r'Wavelength (nm)')          # set axis label
ax.set_ylabel(r'Extinction ')              # set axis label
ax.spines['top'].set_visible(False)
ax.spines['right'].set_visible(False)

plt.tight_layout()  


times_cool_disp = [1,2,3,4,5,6,7,8,9,10,11,12,13,14,15]
print('abs. at lambda_max.', max_abs_disp)


fig = plt.figure(figsize=(7,2), dpi=600) # generate a figure
ax_reversible = plt.subplot(1,1,1) #(nrow, ncolumn, index) - make a subplot, there is only one

ax_reversible.scatter(times_cool_agg, max_abs_agg, color='black', marker='.', s=80)  
ax_reversible.scatter(times_cool_agg, max_abs_agg, color='royalblue', marker='.', s=50) 

ax_reversible.scatter(times_cool_disp, max_abs_disp, color='black', marker='.', s=80)  
ax_reversible.scatter(times_cool_disp, max_abs_disp, color='firebrick', marker='.', s=50)                           

ax_reversible.set_xlim([0.5,15.5])                    # set wavelength limit
ax_reversible.set_ylim([0,0.3])                       # set absorbance limit
ax_reversible.set_xlabel(r'Cycles')          # set axis label
ax_reversible.set_ylabel(r'Ext. @ 808 nm')              # set axis label
ax_reversible.spines['top'].set_visible(False)
ax_reversible.spines['right'].set_visible(False)
plt.tight_layout()  

fig.savefig(RESULT_DIR_PATH+'2024-02-22-100n-20nr-25nacl-100h2o-7bp2-reveribility_808nm_15cycles.png', transparent=True)

















max_abs_agg = []

fig = plt.figure(figsize=(4,2), dpi=600) # generate a figure

ax = plt.subplot(1,1,1) #(nrow, ncolumn, index) - make a subplot, there is only one

for txt_file in txt_file_agg:
    # Read the CSV file into a Pandas DataFrame
    df_agg = pd.read_csv(txt_file, skiprows=14, delimiter='\t', header=None)
    absorbance_cool = round(df_agg.iloc[1069, 1].max(),2)
    max_abs_agg.append(absorbance_cool)

    # Plot the data
    ax.plot(df_agg[0],df_agg[1], color = 'royalblue', linewidth = 1)                           # plot data

ax.set_xlim([400,1100])                    # set wavelength limit
ax.set_ylim([0,0.7])                       # set absorbance limit
ax.set_xlabel(r'Wavelength (nm)')          # set axis label
ax.set_ylabel(r'Extinction ')              # set axis label
ax.spines['top'].set_visible(False)
ax.spines['right'].set_visible(False)

plt.tight_layout()  

times_cool_agg = [1.5,2.5,3.5,4.5,5.5,6.5,7.5,8.5,9.5,10.5]
print('abs. at lambda_max.', max_abs_agg)


df_disp.iloc[1069,:] # 685.709 wavelength


max_abs_disp = []

fig = plt.figure(figsize=(4,2), dpi=600) # generate a figure
ax = plt.subplot(1,1,1) #(nrow, ncolumn, index) - make a subplot, there is only one

for txt_file in txt_file_disp:
    # Read the CSV file into a Pandas DataFrame
    df_disp = pd.read_csv(txt_file, skiprows=14, delimiter='\t', header=None)
    absorbance_cool = round(df_disp.iloc[1069, 1].max(),2)
    max_abs_disp.append(absorbance_cool)

    # Plot the data
    ax.plot(df_disp[0],df_disp[1], color = 'firebrick', linewidth = 1)                           # plot data

ax.set_xlim([400,1100])                    # set wavelength limit
ax.set_ylim([0,0.7])                       # set absorbance limit
ax.set_xlabel(r'Wavelength (nm)')          # set axis label
ax.set_ylabel(r'Extinction ')              # set axis label
ax.spines['top'].set_visible(False)
ax.spines['right'].set_visible(False)

plt.tight_layout()  


times_cool_disp = [1,2,3,4,5,6,7,8,9,10,11]
print('abs. at lambda_max.', max_abs_disp)


fig = plt.figure(figsize=(4,2), dpi=600) # generate a figure

ax = plt.subplot(1,1,1) #(nrow, ncolumn, index) - make a subplot, there is only one

for txt_file in txt_file_disp:
        # Read the CSV file into a Pandas DataFrame
    df_disp = pd.read_csv(txt_file, skiprows=14, delimiter='\t', header=None)
    
    # Plot the data
    ax.plot(df_disp[0],df_disp[1], color = 'firebrick', linewidth = 1)                           # plot data
    
for txt_file in txt_file_agg:
    # Read the CSV file into a Pandas DataFrame
    df_agg = pd.read_csv(txt_file, skiprows=14, delimiter='\t', header=None)

    # Plot the data
    ax.plot(df_agg[0],df_agg[1], color = 'royalblue', linewidth = 1)                           # plot data

ax.set_xlim([300,1100])                    # set wavelength limit
ax.set_ylim([0,0.7])                       # set absorbance limit
ax.set_xlabel(r'Wavelength (nm)')          # set axis label
ax.set_ylabel(r'Extinction ')              # set axis label
ax.spines['top'].set_visible(False)
ax.spines['right'].set_visible(False)

plt.tight_layout()  


rev_time = times_cool_agg + times_cool_disp
rev_abs = max_abs_agg + max_abs_disp


fig = plt.figure(figsize=(7,1.5), dpi=600) # generate a figure
ax_reversible = plt.subplot(1,1,1) #(nrow, ncolumn, index) - make a subplot, there is only one

ax_reversible.scatter(rev_time, rev_abs, color='black', marker='.', s=80)  
ax_reversible.scatter(rev_time, rev_abs, color='royalblue', marker='.', s=50)                         

ax_reversible.set_xlim([0.5,11.5])                    # set wavelength limit
ax_reversible.set_ylim([0.2,0.6])                       # set absorbance limit
ax_reversible.set_xlabel(r'Cycles')          # set axis label
ax_reversible.set_ylabel(r'Ext. @ 685 nm')              # set axis label
ax_reversible.spines['top'].set_visible(False)
ax_reversible.spines['right'].set_visible(False)


#fig.savefig(RESULT_DIR_PATH+'23-03-2023-reversibility.jpeg', transparent=True)


fig = plt.figure(figsize=(7,2), dpi=600) # generate a figure
ax_reversible = plt.subplot(1,1,1) #(nrow, ncolumn, index) - make a subplot, there is only one

ax_reversible.scatter(times_cool_agg, max_abs_agg, color='black', marker='.', s=80)  
ax_reversible.scatter(times_cool_agg, max_abs_agg, color='royalblue', marker='.', s=50) 

ax_reversible.scatter(times_cool_disp, max_abs_disp, color='black', marker='.', s=80)  
ax_reversible.scatter(times_cool_disp, max_abs_disp, color='firebrick', marker='.', s=50)                           

ax_reversible.set_xlim([0.5,11.5])                    # set wavelength limit
ax_reversible.set_ylim([0.25,0.55])                       # set absorbance limit
ax_reversible.set_xlabel(r'Cycles')          # set axis label
ax_reversible.set_ylabel(r'Ext. @ 685 nm')              # set axis label
ax_reversible.spines['top'].set_visible(False)
ax_reversible.spines['right'].set_visible(False)
plt.tight_layout()  

#fig.savefig(RESULT_DIR_PATH+'2024-02-22-100n-20nr-25nacl-100h2o-7bp2-reveribility.png', transparent=True)





df_disp.iloc[1350,:] # 808.308 wavelength


max_abs_agg = []

fig = plt.figure(figsize=(4,2), dpi=600) # generate a figure

ax = plt.subplot(1,1,1) #(nrow, ncolumn, index) - make a subplot, there is only one

for txt_file in txt_file_agg:
    # Read the CSV file into a Pandas DataFrame
    df_agg = pd.read_csv(txt_file, skiprows=14, delimiter='\t', header=None)
    absorbance_cool = round(df_agg.iloc[1350, 1].max(),2)
    max_abs_agg.append(absorbance_cool)

    # Plot the data
    ax.plot(df_agg[0],df_agg[1], color = 'royalblue', linewidth = 1)                           # plot data

ax.set_xlim([400,1100])                    # set wavelength limit
ax.set_ylim([0,0.7])                       # set absorbance limit
ax.set_xlabel(r'Wavelength (nm)')          # set axis label
ax.set_ylabel(r'Extinction ')              # set axis label
ax.spines['top'].set_visible(False)
ax.spines['right'].set_visible(False)

plt.tight_layout()  

times_cool_agg = [1.5,2.5,3.5,4.5,5.5,6.5,7.5,8.5,9.5,10.5]
print('abs. at lambda_max.', max_abs_agg)


max_abs_disp = []

fig = plt.figure(figsize=(4,2), dpi=600) # generate a figure
ax = plt.subplot(1,1,1) #(nrow, ncolumn, index) - make a subplot, there is only one

for txt_file in txt_file_disp:
    # Read the CSV file into a Pandas DataFrame
    df_disp = pd.read_csv(txt_file, skiprows=14, delimiter='\t', header=None)
    absorbance_cool = round(df_disp.iloc[1350, 1].max(),2)
    max_abs_disp.append(absorbance_cool)

    # Plot the data
    ax.plot(df_disp[0],df_disp[1], color = 'firebrick', linewidth = 1)                           # plot data

ax.set_xlim([400,1100])                    # set wavelength limit
ax.set_ylim([0,0.7])                       # set absorbance limit
ax.set_xlabel(r'Wavelength (nm)')          # set axis label
ax.set_ylabel(r'Extinction ')              # set axis label
ax.spines['top'].set_visible(False)
ax.spines['right'].set_visible(False)

plt.tight_layout()  


times_cool_disp = [1,2,3,4,5,6,7,8,9,10,11]
print('abs. at lambda_max.', max_abs_disp)


fig = plt.figure(figsize=(7,2), dpi=600) # generate a figure
ax_reversible = plt.subplot(1,1,1) #(nrow, ncolumn, index) - make a subplot, there is only one

ax_reversible.scatter(times_cool_agg, max_abs_agg, color='black', marker='.', s=80)  
ax_reversible.scatter(times_cool_agg, max_abs_agg, color='royalblue', marker='.', s=50) 

ax_reversible.scatter(times_cool_disp, max_abs_disp, color='black', marker='.', s=80)  
ax_reversible.scatter(times_cool_disp, max_abs_disp, color='firebrick', marker='.', s=50)                           

ax_reversible.set_xlim([0.5,11.5])                    # set wavelength limit
ax_reversible.set_ylim([0,0.3])                       # set absorbance limit
ax_reversible.set_xlabel(r'Cycles')          # set axis label
ax_reversible.set_ylabel(r'Ext. @ 808 nm')              # set axis label
ax_reversible.spines['top'].set_visible(False)
ax_reversible.spines['right'].set_visible(False)
plt.tight_layout()  

fig.savefig(RESULT_DIR_PATH+'2024-02-22-100n-20nr-25nacl-100h2o-7bp2-reveribility_808nm.png', transparent=True)
































#================ plot data showing cooling ===========================#

fig = plt.figure(figsize=(4,2), dpi=600) # generate a figure

ax = plt.subplot(1,1,1) #(nrow, ncolumn, index) - make a subplot, there is only one

for col in odd_cool:
    ax.plot(df_cool.iloc[:, 0], odd_cool[col], color='royalblue')                           # plot data    
ax.set_xlim([400,1100])                    # set wavelength limit
ax.set_ylim([0,0.7])                       # set absorbance limit
ax.set_xlabel(r'Wavelength (nm)')          # set axis label
ax.set_ylabel(r'Extinction ')              # set axis label
ax.spines['top'].set_visible(False)
ax.spines['right'].set_visible(False)

plt.tight_layout()  
#fig.savefig(RESULT_DIR_PATH+'auss-10ulbp-500mmnacl.pdf')

# Obtian the abs. max and the corresponding wavelength

max_abs_cool = []
max_wavelength_cool = []
times_cool = [1,2,3,4,5,6,7,8,9,10]

for col in odd_cool:
    absorbance_cool = round(odd_cool[col].max(),2)
    max_abs_cool.append(absorbance_cool)
    
print('abs. at lambda_max.', max_abs_cool)



#================ plot data showing heating ===========================#

fig = plt.figure(figsize=(4,2), dpi=600) # generate a figure

ax = plt.subplot(1,1,1) #(nrow, ncolumn, index) - make a subplot, there is only one

for col in odd_heat:
    ax.plot(df_heat.iloc[:, 0], odd_heat[col], color='firebrick')                           # plot data    
ax.set_xlim([400,1100])                    # set wavelength limit
ax.set_ylim([0,0.7])                       # set absorbance limit
ax.set_xlabel(r'Wavelength (nm)')          # set axis label
ax.set_ylabel(r'Extinction ')              # set axis label
ax.spines['top'].set_visible(False)
ax.spines['right'].set_visible(False)

plt.tight_layout()  
#fig.savefig(RESULT_DIR_PATH+'auss-10ulbp-500mmnacl.pdf')

# Obtian the abs. max and the corresponding wavelength

max_abs_heat = []
max_wavelength_heat = []
times_heat = [1,2,3,4,5,6,7,8,9,10]

for col in odd_heat:
    absorbance_heat = round(odd_heat[col].max(),2)
    max_abs_heat.append(absorbance_heat)
    
print('abs. at lambda_max.',max_abs_heat)



df_cycles = pd.read_csv(DATA_UV_DIR_PATH+'10-cycles.csv', header=None)

fig = plt.figure(figsize=(7,1.5), dpi=600) # generate a figure
ax_reversible = plt.subplot(1,1,1) #(nrow, ncolumn, index) - make a subplot, there is only one

ax_reversible.plot(df_cycles[0], df_cycles[1], color='firebrick', marker='*', mfc='royalblue', mec='royalblue')                           # plot data
ax_reversible.set_xlim([1,10])                    # set wavelength limit
ax_reversible.set_ylim([0.4,0.7])                       # set absorbance limit
ax_reversible.set_xlabel(r'Cycle')          # set axis label
ax_reversible.set_ylabel(r'Extinction at $\lambda_{max.}$')              # set axis label
ax_reversible.spines['top'].set_visible(False)
ax_reversible.spines['right'].set_visible(False)


#fig.savefig(RESULT_DIR_PATH+'23-03-2023-reversibility.jpeg', transparent=True)





#================ plot data ===========================#

fig = plt.figure(figsize=(6,4), dpi=600)
gs = fig.add_gridspec(2, 2) #nrows, #ncolumns
ax1 = fig.add_subplot(gs[0, 0]) # upper left subplot
ax2 = fig.add_subplot(gs[0, 1]) # upper rigth subplot
ax3 = fig.add_subplot(gs[1, :]) # upper rigth subplot

axes = [ax1, ax2, ax3] # list of all axes in plot

for col in odd_cols:
    if col == 'Abs':
        color = 'firebrick'
    elif col == 'Abs.30':
        color = 'royalblue'
    else:
        color = 'grey'
    
    ax1.plot(df.iloc[:, 0], odd_cols[col], color = color)                           # plot data    
    
ax1.set_xlim([400,1100])                    # set wavelength limit
ax1.set_ylim([0,0.7])                       # set absorbance limit
ax1.set_xlabel(r'Wavelength (nm)')          # set axis label
ax1.set_ylabel(r'Extinction ')              # set axis label
ax1.spines['right'].set_visible(False)      # remove spines
ax1.spines['top'].set_visible(False)        # remove spines


#=======second plot======================#

ax2.scatter(times, max_abs, color='royalblue', s=10, zorder=5)                           # plot data
ax2.set_xlim([0,30])                    # set wavelength limit

ax2.set_ylim([0,0.7])                       # set absorbance limit
ax2.set_xlabel(r'Time (min)')          # set axis label
ax2.set_ylabel(r'Extinction at $\lambda_{max.}$')              # set axis label
ax2.spines['right'].set_visible(False)      # remove spines
ax2.spines['top'].set_visible(False)        # remove spines

#========exponential fit===============#

# Define the exponential decay function
def exp_decay(x, a, b, c):
    return a * np.exp(-b * x) + c

# Fit the data to the exponential decay function
popt, pcov = curve_fit(exp_decay, times, max_abs)

# Print the fitted parameters
print('a =', popt[0])
print('Rate constant (b) =', popt[1])
print('c =', popt[2])
x_data = np.linspace(0,30)

ax2.plot(x_data, exp_decay(x_data, popt[0], popt[1], popt[2]), color='firebrick')

#================third plot=================#

ax3.plot(df_cycles[0], df_cycles[1], color='firebrick', marker='o', mfc='black', mec='black')                           # plot data
ax3.set_xlim([-0.1,10.1])                    # set wavelength limit
ax3.set_ylim([0.45,0.65])                       # set absorbance limit
ax3.set_xlabel(r'Cycles')          # set axis label
ax3.set_ylabel(r'Extinction at $\lambda_{max.}$')              # set axis label
ax3.spines['right'].set_visible(False)      # remove spines
ax3.spines['top'].set_visible(False)        # remove spines

plt.tight_layout()  

#fig.savefig(RESULT_DIR_PATH+'23-03-2023-assembly_kinetics.jpeg')












#================ plot data ===========================#

fig = plt.figure(figsize=(6,4), dpi=600)
gs = fig.add_gridspec(2, 1) #nrows, #ncolumns
ax1 = fig.add_subplot(gs[0, 0]) # upper left subplot
ax2 = fig.add_subplot(gs[1, 0]) # upper rigth subplot

axes = [ax1, ax2] # list of all axes in plot

for col in odd_heat:
    ax1.plot(df_heat.iloc[:, 0], odd_heat[col], color='firebrick')
    ax1.set_xlim([400,1100])
    ax1.set_ylim([0,0.7])
    ax1.set_xlabel(r'Wavelength (nm)')
    ax1.set_ylabel(r'Extinction ')
    ax1.axvline(525, color='firebrick')
    ax1.spines['top'].set_visible(False)
    ax1.spines['right'].set_visible(False)
    
for col in odd_cool:
    ax2.plot(df_cool.iloc[:, 0], odd_cool[col], color='royalblue')
    ax2.set_xlim([400,1100])
    ax2.set_ylim([0,0.7])
    ax2.set_xlabel(r'Wavelength (nm)')
    ax2.set_ylabel(r'Extinction ')
    ax2.axvline(560, color='royalblue')    
    ax2.spines['top'].set_visible(False)
    ax2.spines['right'].set_visible(False)
    
plt.tight_layout()  

fig.savefig(RESULT_DIR_PATH+'23-03-2023-10-heat-cool-cycles.jpeg')






