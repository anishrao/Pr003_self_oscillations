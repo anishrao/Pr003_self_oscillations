import glob
import os, time
import itertools
import numpy as np
import seaborn as sns
import pandas as pd
from natsort import natsorted

import matplotlib.pyplot as plt
import matplotlib.colors as mcolors
import matplotlib.cm as cm
from mpl_toolkits.mplot3d import Axes3D
from mpl_toolkits.axes_grid1.inset_locator import inset_axes
from cycler import cycler
from datetime import datetime, timedelta

from scipy.stats import norm
from scipy.optimize import curve_fit #we could import more, but this is what we need
from scipy.stats import linregress

from misc_process import *
from misc_process import get_maxima_LSPR

%matplotlib inline


'''
Get paths to corresponsing folders
'''

# get the path to the project's main directory (e.g., Project051)
BASE_DIR_PATH = os.path.dirname(os.path.abspath(os.getcwd()))

# ------------------------- data folder -----------------------

# get the path to the folder containing raw data
DATA_DIR_PATH = os.path.join(BASE_DIR_PATH, 'data','')

# get the path to the folder containing UV-Vis-NIR raw data
DATA_UV_DIR_PATH_AGG = os.path.join(BASE_DIR_PATH, 'data', 'UV-Vis-NIR','2023-08-14-auss-oscillation-1haggregation-disassembly','') # at 17C base temperature
DATA_UV_DIR_PATH_4A_808 = os.path.join(BASE_DIR_PATH, 'data', 'UV-Vis-NIR','2023-08-14-auss-oscillation-1haggregation-disassembly','light_4A-808','') # at 17C base temperature

# ------------------------- output folder -----------------------

# # get the path to the folder with generated figures
RESULT_DIR_PATH = os.path.join(BASE_DIR_PATH, 'results', 'figs', '')



'''
Import cooling data from UV-Vis-NIR folder
'''

#================ import data =========================#

# Define the path to the folder containing the CSV files
folder_path = DATA_UV_DIR_PATH_4A_808

# Get a list of all CSV files in the folder
txt_files = glob.glob(os.path.join(folder_path, '*.txt'))

print(len(txt_files))



for i, txt_file in enumerate(natsorted(txt_files)):
    # Read the CSV file into a Pandas DataFrame
    df_cool = pd.read_csv(txt_file, skiprows=14, delimiter='\t', header=None, decimal = ',')
    new_df_cool = df_cool.iloc[350:1100, ]
    
    max_value_cool = new_df_cool[1].max()
    #max_index_cool = new_df_cool.loc[new_df_cool.iloc[:, 1].idxmax(), 0]
    #print(max_value_cool)


print(new_df_cool)


#================ plot data heating cycle ===========================#

fig = plt.figure(figsize=(4,2), dpi=600) # generate a figure
ax = plt.subplot(1,1,1) #(nrow, ncolumn, index) - make a subplot, there is only one

# Initialize the maximum value and its corresponding index
max_values_cool = []
max_indexes_cool = []
wv_abs_cool = []

time_cool = 0

for i, txt_file in enumerate(natsorted(txt_files)):
    # Read the CSV file into a Pandas DataFrame
    df_cool = pd.read_csv(txt_file, skiprows=14, delimiter='\t', header=None, decimal = ',')
    new_df_cool = df_cool.iloc[324:1300, ]
    
    # Find the maximum value and its corresponding index
    max_value_cool = new_df_cool[1].max()
    max_values_cool.append(max_value_cool)
    
    # Get the corresponding value from the first column
    max_index_cool = new_df_cool.loc[new_df_cool[1].idxmax(), 0]
    max_indexes_cool.append(max_index_cool)
    
    wv_abs_cool.append((time_cool, max_index_cool, max_value_cool))
    
    time_cool = time_cool + 2
    
    # set the color

    if i == 0:
        color = 'firebrick'
    elif i == len(txt_files)-1:
        color = 'royalblue'
    else:
        color = 'grey'
    
    # Plot the data
    ax.plot(df_cool[0],df_cool[1], color = color)                           # plot data

#ax.set_xlim([400,1100])                    # set wavelength limit
#ax.set_ylim([0,1])                       # set absorbance limit
ax.set_xlabel(r'Wavelength (nm)')          # set axis label
ax.set_ylabel(r'Extinction ')              # set axis label
ax.axvline(684, color='firebrick')

plt.tight_layout()  

#print('(time, max. wavelength, max. abs)', wv_abs_cool)

column_names = ['time', 'max_wav', 'abs_max']
df_spec1 = pd.DataFrame(wv_abs_cool, columns=column_names)

df_spec1

# Plot of max. wavelength with time

fig = plt.figure(figsize=(4,2), dpi=600) # generate a figure
ax = plt.subplot(1,1,1) #(nrow, ncolumn, index) - make a subplot, there is only one

ax.plot(df_spec1['time'], df_spec1['max_wav'], linewidth = 0.5)                           # plot data

#ax.set_xlim([0,10.5])                   
#ax.set_ylim([520,540])                       
ax.set_xlabel(r'Time(min)')          # set axis label
ax.set_ylabel(r'$\lambda_{max.}$')              # set axis label

plt.tight_layout()  

# Plot of absorbance at max. wavelength with time

fig = plt.figure(figsize=(4,2), dpi=600) # generate a figure
ax = plt.subplot(1,1,1) #(nrow, ncolumn, index) - make a subplot, there is only one

ax.plot(df_spec1['time'], df_spec1['abs_max'], linewidth = 0.5)                           # plot data

#ax.set_xlim([0,10.5])                   
#ax.set_ylim([-0.1,1.0])                       
ax.set_xlabel(r'Time(min)')          # set axis label
ax.set_ylabel(r'Abs. at $\lambda_{max.}$')              # set axis label

plt.tight_layout()  







